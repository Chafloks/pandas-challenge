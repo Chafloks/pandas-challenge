{
 "cells": [
  {
   "cell_type": "code",
   "execution_count": 77,
   "metadata": {},
   "outputs": [],
   "source": [
    "import pandas as pd\n",
    "import numpy as np\n",
    "\n",
    "file = \"Resources/purchase_data.csv\"\n",
    "\n",
    "data = pd.read_csv(file)\n",
    "\n",
    "data = data.rename(columns={\"Item ID\":\"item_id\",\"Item Name\":\"item\"})"
   ]
  },
  {
   "cell_type": "markdown",
   "metadata": {},
   "source": [
    "Player Count"
   ]
  },
  {
   "cell_type": "code",
   "execution_count": 78,
   "metadata": {},
   "outputs": [
    {
     "data": {
      "text/html": [
       "<div>\n",
       "<style scoped>\n",
       "    .dataframe tbody tr th:only-of-type {\n",
       "        vertical-align: middle;\n",
       "    }\n",
       "\n",
       "    .dataframe tbody tr th {\n",
       "        vertical-align: top;\n",
       "    }\n",
       "\n",
       "    .dataframe thead th {\n",
       "        text-align: right;\n",
       "    }\n",
       "</style>\n",
       "<table border=\"1\" class=\"dataframe\">\n",
       "  <thead>\n",
       "    <tr style=\"text-align: right;\">\n",
       "      <th></th>\n",
       "      <th>Total Players</th>\n",
       "    </tr>\n",
       "  </thead>\n",
       "  <tbody>\n",
       "    <tr>\n",
       "      <th>0</th>\n",
       "      <td>576</td>\n",
       "    </tr>\n",
       "  </tbody>\n",
       "</table>\n",
       "</div>"
      ],
      "text/plain": [
       "   Total Players\n",
       "0            576"
      ]
     },
     "execution_count": 78,
     "metadata": {},
     "output_type": "execute_result"
    }
   ],
   "source": [
    "SN = data.drop_duplicates('SN', keep='last')\n",
    "TotalSN = len(SN)\n",
    "TotalSN_df = pd.DataFrame({\"Total Players\":[(TotalSN)]})\n",
    "TotalSN_df"
   ]
  },
  {
   "cell_type": "markdown",
   "metadata": {},
   "source": [
    "Purchasing Analysis (Total)"
   ]
  },
  {
   "cell_type": "code",
   "execution_count": 79,
   "metadata": {},
   "outputs": [
    {
     "data": {
      "text/html": [
       "<div>\n",
       "<style scoped>\n",
       "    .dataframe tbody tr th:only-of-type {\n",
       "        vertical-align: middle;\n",
       "    }\n",
       "\n",
       "    .dataframe tbody tr th {\n",
       "        vertical-align: top;\n",
       "    }\n",
       "\n",
       "    .dataframe thead th {\n",
       "        text-align: right;\n",
       "    }\n",
       "</style>\n",
       "<table border=\"1\" class=\"dataframe\">\n",
       "  <thead>\n",
       "    <tr style=\"text-align: right;\">\n",
       "      <th></th>\n",
       "      <th>Number of Unique Items</th>\n",
       "      <th>Average Price</th>\n",
       "      <th>Number of Purchases</th>\n",
       "      <th>Total Revenue</th>\n",
       "    </tr>\n",
       "  </thead>\n",
       "  <tbody>\n",
       "    <tr>\n",
       "      <th>0</th>\n",
       "      <td>179</td>\n",
       "      <td>$3.05</td>\n",
       "      <td>780</td>\n",
       "      <td>$2379.77</td>\n",
       "    </tr>\n",
       "  </tbody>\n",
       "</table>\n",
       "</div>"
      ],
      "text/plain": [
       "   Number of Unique Items Average Price  Number of Purchases Total Revenue\n",
       "0                     179         $3.05                  780      $2379.77"
      ]
     },
     "execution_count": 79,
     "metadata": {},
     "output_type": "execute_result"
    }
   ],
   "source": [
    "items = data.item.unique()\n",
    "number_items = len(items)\n",
    "price_avg = data.Price.mean()\n",
    "pr_avg = \"$\" + str(price_avg.round(decimals=2))\n",
    "number_purchase = len(data)\n",
    "total_purchase = data.Price.sum()\n",
    "t_p = \"$\" + str(total_purchase)\n",
    "Total_Analysis_df = pd.DataFrame({\"Number of Unique Items\":[number_items],\"Average Price\":[pr_avg],\"Number of Purchases\":[number_purchase],\"Total Revenue\":[t_p]})\n",
    "Total_Analysis_df"
   ]
  },
  {
   "cell_type": "markdown",
   "metadata": {},
   "source": [
    "  Gender Demographics"
   ]
  },
  {
   "cell_type": "code",
   "execution_count": 80,
   "metadata": {},
   "outputs": [
    {
     "data": {
      "text/html": [
       "<div>\n",
       "<style scoped>\n",
       "    .dataframe tbody tr th:only-of-type {\n",
       "        vertical-align: middle;\n",
       "    }\n",
       "\n",
       "    .dataframe tbody tr th {\n",
       "        vertical-align: top;\n",
       "    }\n",
       "\n",
       "    .dataframe thead th {\n",
       "        text-align: right;\n",
       "    }\n",
       "</style>\n",
       "<table border=\"1\" class=\"dataframe\">\n",
       "  <thead>\n",
       "    <tr style=\"text-align: right;\">\n",
       "      <th></th>\n",
       "      <th>Total Count</th>\n",
       "      <th>Percentage of Players</th>\n",
       "    </tr>\n",
       "  </thead>\n",
       "  <tbody>\n",
       "    <tr>\n",
       "      <th>Male</th>\n",
       "      <td>484</td>\n",
       "      <td>84.03%</td>\n",
       "    </tr>\n",
       "    <tr>\n",
       "      <th>Female</th>\n",
       "      <td>81</td>\n",
       "      <td>14.06%</td>\n",
       "    </tr>\n",
       "    <tr>\n",
       "      <th>Other / Non-Disclosed</th>\n",
       "      <td>11</td>\n",
       "      <td>1.91%</td>\n",
       "    </tr>\n",
       "  </tbody>\n",
       "</table>\n",
       "</div>"
      ],
      "text/plain": [
       "                       Total Count Percentage of Players\n",
       "Male                           484                84.03%\n",
       "Female                          81                14.06%\n",
       "Other / Non-Disclosed           11                 1.91%"
      ]
     },
     "execution_count": 80,
     "metadata": {},
     "output_type": "execute_result"
    }
   ],
   "source": [
    "g_m = data.loc[data[\"Gender\"] == \"Male\"]\n",
    "g_f = data.loc[data[\"Gender\"] == \"Female\"]\n",
    "g_o = data.loc[data[\"Gender\"] == \"Other / Non-Disclosed\"]\n",
    "g_m_u = g_m.drop_duplicates(subset='SN', keep='first')\n",
    "g_f_u = g_f.drop_duplicates(subset='SN', keep='first')\n",
    "g_o_u = g_o.drop_duplicates(subset='SN', keep='first')\n",
    "count_m = len(g_m_u)\n",
    "count_f = len(g_f_u)\n",
    "count_o = len(g_o_u)\n",
    "per_m = (count_m/TotalSN)*100\n",
    "per_f = (count_f/TotalSN)*100\n",
    "per_o = (count_o/TotalSN)*100\n",
    "per_m_s= str(format(per_m,'.2f'))+ \"%\"\n",
    "per_f_s= str(format(per_f,'.2f'))+ \"%\"\n",
    "per_o_s= str(format(per_o,'.2f'))+ \"%\"\n",
    "gender_df = pd.DataFrame({\"Total Count\":[count_m,count_f,count_o],\"Percentage of Players\":[per_m_s,per_f_s,per_o_s]},index = ['Male', 'Female', 'Other / Non-Disclosed'])\n",
    "gender_df"
   ]
  },
  {
   "cell_type": "markdown",
   "metadata": {},
   "source": [
    "Purchasing Analysis (Gender)"
   ]
  },
  {
   "cell_type": "code",
   "execution_count": 81,
   "metadata": {},
   "outputs": [
    {
     "data": {
      "text/html": [
       "<div>\n",
       "<style scoped>\n",
       "    .dataframe tbody tr th:only-of-type {\n",
       "        vertical-align: middle;\n",
       "    }\n",
       "\n",
       "    .dataframe tbody tr th {\n",
       "        vertical-align: top;\n",
       "    }\n",
       "\n",
       "    .dataframe thead th {\n",
       "        text-align: right;\n",
       "    }\n",
       "</style>\n",
       "<table border=\"1\" class=\"dataframe\">\n",
       "  <thead>\n",
       "    <tr style=\"text-align: right;\">\n",
       "      <th></th>\n",
       "      <th>Purchase Count</th>\n",
       "      <th>Average Purchase Price</th>\n",
       "      <th>Total Purchase Value</th>\n",
       "      <th>Avg Total Purchase per Person</th>\n",
       "    </tr>\n",
       "  </thead>\n",
       "  <tbody>\n",
       "    <tr>\n",
       "      <th>Male</th>\n",
       "      <td>361.94</td>\n",
       "      <td>$3.2</td>\n",
       "      <td>$361.94</td>\n",
       "      <td>$4.47</td>\n",
       "    </tr>\n",
       "    <tr>\n",
       "      <th>Female</th>\n",
       "      <td>1967.64</td>\n",
       "      <td>$3.02</td>\n",
       "      <td>$1967.64</td>\n",
       "      <td>$4.07</td>\n",
       "    </tr>\n",
       "    <tr>\n",
       "      <th>Other / Non-Disclosed</th>\n",
       "      <td>50.19</td>\n",
       "      <td>$3.35</td>\n",
       "      <td>$50.19</td>\n",
       "      <td>$4.56</td>\n",
       "    </tr>\n",
       "  </tbody>\n",
       "</table>\n",
       "</div>"
      ],
      "text/plain": [
       "                       Purchase Count Average Purchase Price  \\\n",
       "Male                           361.94                   $3.2   \n",
       "Female                        1967.64                  $3.02   \n",
       "Other / Non-Disclosed           50.19                  $3.35   \n",
       "\n",
       "                      Total Purchase Value Avg Total Purchase per Person  \n",
       "Male                               $361.94                         $4.47  \n",
       "Female                            $1967.64                         $4.07  \n",
       "Other / Non-Disclosed               $50.19                         $4.56  "
      ]
     },
     "execution_count": 81,
     "metadata": {},
     "output_type": "execute_result"
    }
   ],
   "source": [
    "total_purchase_m = len(g_m)\n",
    "total_purchase_f = len(g_f)\n",
    "total_purchase_o = len(g_o)\n",
    "price_avg_m = g_m.Price.mean()\n",
    "price_avg_f = g_f.Price.mean()\n",
    "price_avg_o = g_o.Price.mean()\n",
    "str_price_avg_m = \"$\" + str(price_avg_m.round(decimals=2))\n",
    "str_price_avg_f = \"$\" + str(price_avg_f.round(decimals=2))\n",
    "str_price_avg_o = \"$\" + str(price_avg_o.round(decimals=2))\n",
    "total_purchase_m = g_m.Price.sum()\n",
    "total_purchase_f = g_f.Price.sum()\n",
    "total_purchase_o = g_o.Price.sum()\n",
    "str_total_purchase_m = \"$\" + str(total_purchase_m.round(decimals=2))\n",
    "str_total_purchase_f = \"$\" + str(total_purchase_f.round(decimals=2))\n",
    "str_total_purchase_o = \"$\" + str(total_purchase_o.round(decimals=2))\n",
    "avg_pp_m = total_purchase_m/count_m\n",
    "avg_pp_f = total_purchase_f/count_f\n",
    "avg_pp_o = total_purchase_o/count_o\n",
    "str_avg_pp_m = \"$\" + str(avg_pp_m.round(decimals=2))\n",
    "str_avg_pp_f = \"$\" + str(avg_pp_f.round(decimals=2))\n",
    "str_avg_pp_o = \"$\" + str(avg_pp_o.round(decimals=2))\n",
    "purchase_gender_df = pd.DataFrame({\"Purchase Count\":[total_purchase_f,total_purchase_m,total_purchase_o],\"Average Purchase Price\":[str_price_avg_f,str_price_avg_m,str_price_avg_o],\"Total Purchase Value\":[str_total_purchase_f,str_total_purchase_m,str_total_purchase_o],\"Avg Total Purchase per Person\":[str_avg_pp_f,str_avg_pp_m,str_avg_pp_o]},index = ['Male', 'Female', 'Other / Non-Disclosed'])\n",
    "purchase_gender_df"
   ]
  },
  {
   "cell_type": "markdown",
   "metadata": {},
   "source": [
    "Age Demographics"
   ]
  },
  {
   "cell_type": "code",
   "execution_count": 86,
   "metadata": {},
   "outputs": [
    {
     "data": {
      "text/html": [
       "<div>\n",
       "<style scoped>\n",
       "    .dataframe tbody tr th:only-of-type {\n",
       "        vertical-align: middle;\n",
       "    }\n",
       "\n",
       "    .dataframe tbody tr th {\n",
       "        vertical-align: top;\n",
       "    }\n",
       "\n",
       "    .dataframe thead th {\n",
       "        text-align: right;\n",
       "    }\n",
       "</style>\n",
       "<table border=\"1\" class=\"dataframe\">\n",
       "  <thead>\n",
       "    <tr style=\"text-align: right;\">\n",
       "      <th></th>\n",
       "      <th>Age</th>\n",
       "      <th>Percentage of Players</th>\n",
       "    </tr>\n",
       "  </thead>\n",
       "  <tbody>\n",
       "    <tr>\n",
       "      <th>&lt;10</th>\n",
       "      <td>17</td>\n",
       "      <td>2.95</td>\n",
       "    </tr>\n",
       "    <tr>\n",
       "      <th>10-14</th>\n",
       "      <td>22</td>\n",
       "      <td>3.82</td>\n",
       "    </tr>\n",
       "    <tr>\n",
       "      <th>15-19</th>\n",
       "      <td>107</td>\n",
       "      <td>18.58</td>\n",
       "    </tr>\n",
       "    <tr>\n",
       "      <th>20-24</th>\n",
       "      <td>258</td>\n",
       "      <td>44.79</td>\n",
       "    </tr>\n",
       "    <tr>\n",
       "      <th>25-29</th>\n",
       "      <td>77</td>\n",
       "      <td>13.37</td>\n",
       "    </tr>\n",
       "    <tr>\n",
       "      <th>30-34</th>\n",
       "      <td>52</td>\n",
       "      <td>9.03</td>\n",
       "    </tr>\n",
       "    <tr>\n",
       "      <th>35-39</th>\n",
       "      <td>31</td>\n",
       "      <td>5.38</td>\n",
       "    </tr>\n",
       "    <tr>\n",
       "      <th>40+</th>\n",
       "      <td>12</td>\n",
       "      <td>2.08</td>\n",
       "    </tr>\n",
       "  </tbody>\n",
       "</table>\n",
       "</div>"
      ],
      "text/plain": [
       "       Age  Percentage of Players\n",
       "<10     17                   2.95\n",
       "10-14   22                   3.82\n",
       "15-19  107                  18.58\n",
       "20-24  258                  44.79\n",
       "25-29   77                  13.37\n",
       "30-34   52                   9.03\n",
       "35-39   31                   5.38\n",
       "40+     12                   2.08"
      ]
     },
     "execution_count": 86,
     "metadata": {},
     "output_type": "execute_result"
    }
   ],
   "source": [
    "bins = [0,9,14,19,24,29,34,39,100]\n",
    "labels = [\"<10\",\"10-14\",\"15-19\",\"20-24\",\"25-29\",\"30-34\",\"35-39\",\"40+\"]\n",
    "age_group = pd.cut(SN[\"Age\"],bins,labels=labels).value_counts()\n",
    "age_df = pd.DataFrame(age_group, index= [\"<10\",\"10-14\",\"15-19\",\"20-24\",\"25-29\",\"30-34\",\"35-39\",\"40+\"])\n",
    "p_age = ((age_df[\"Age\"]/TotalSN)*100).round(decimals=2)\n",
    "age_df[\"Percentage of Players\"] = p_age\n",
    "age_df"
   ]
  },
  {
   "cell_type": "markdown",
   "metadata": {},
   "source": [
    "Purchasing Analysis (Age)"
   ]
  },
  {
   "cell_type": "code",
   "execution_count": null,
   "metadata": {},
   "outputs": [],
   "source": []
  }
 ],
 "metadata": {
  "kernelspec": {
   "display_name": "Python 3",
   "language": "python",
   "name": "python3"
  },
  "language_info": {
   "codemirror_mode": {
    "name": "ipython",
    "version": 3
   },
   "file_extension": ".py",
   "mimetype": "text/x-python",
   "name": "python",
   "nbconvert_exporter": "python",
   "pygments_lexer": "ipython3",
   "version": "3.8.3"
  }
 },
 "nbformat": 4,
 "nbformat_minor": 4
}
